{
 "cells": [
  {
   "cell_type": "code",
   "execution_count": 19,
   "id": "parental-admission",
   "metadata": {},
   "outputs": [],
   "source": [
    "# import the necessary packages\n",
    "from tensorflow.keras.preprocessing.image import img_to_array\n",
    "from tensorflow.keras.models import load_model\n",
    "from tensorflow.keras.applications.mobilenet_v2 import preprocess_input\n",
    "import numpy as np\n",
    "import time\n",
    "from scipy.spatial import distance as dist\n",
    "import os\n",
    "import cv2"
   ]
  },
  {
   "cell_type": "markdown",
   "id": "40c20c74-6177-40d6-921d-a848d9af4b52",
   "metadata": {},
   "source": [
    "Using Trained model to Predict MASK"
   ]
  },
  {
   "cell_type": "code",
   "execution_count": 20,
   "id": "assigned-violence",
   "metadata": {},
   "outputs": [],
   "source": [
    "def detect_and_predict_mask(frame, faceNet, maskNet):\n",
    "    # grab the dimensions of the frame and then construct a blob\n",
    "    # from it\n",
    "    (h, w) = frame.shape[:2]\n",
    "    blob = cv2.dnn.blobFromImage(frame, 1.0, (700, 700),\n",
    "        (104.0, 177.0, 123.0))\n",
    "\n",
    "    # pass the blob through the network and obtain the face detections\n",
    "    faceNet.setInput(blob)\n",
    "    detections = faceNet.forward()\n",
    "\n",
    "    # initialize our list of faces, their corresponding locations,\n",
    "    # and the list of predictions from our face mask network\n",
    "    faces = []\n",
    "    locs = []\n",
    "    preds = []\n",
    "\n",
    "    # loop over the detections\n",
    "    for i in range(0, detections.shape[2]):\n",
    "        # extract the confidence (i.e., probability) associated with\n",
    "        # the detection\n",
    "        confidence = detections[0, 0, i, 2]\n",
    "\n",
    "        # filter out weak detections by ensuring the confidence is\n",
    "        # greater than the minimum confidence\n",
    "        if confidence > 0.6:\n",
    "            # compute the (x, y)-coordinates of the bounding box for\n",
    "            # the object\n",
    "            box = detections[0, 0, i, 3:7] * np.array([w, h, w, h])\n",
    "            (startX, startY, endX, endY) = box.astype(\"int\")\n",
    "\n",
    "            # ensure the bounding boxes fall within the dimensions of\n",
    "            # the frame\n",
    "            (startX, startY) = (max(0, startX), max(0, startY))\n",
    "            (endX, endY) = (min(w - 1, endX), min(h - 1, endY))\n",
    "\n",
    "            # extract the face ROI, convert it from BGR to RGB channel\n",
    "            # ordering, resize it to 224x224, and preprocess it\n",
    "            face = frame[startY:endY, startX:endX]\n",
    "            if face.any():\n",
    "                face = cv2.cvtColor(face, cv2.COLOR_BGR2RGB)\n",
    "                face = cv2.resize(face, (224, 224))\n",
    "                face = img_to_array(face)\n",
    "                face = preprocess_input(face)\n",
    "\n",
    "                # add the face and bounding boxes to their respective\n",
    "                # lists\n",
    "                faces.append(face)\n",
    "                locs.append((startX, startY, endX, endY))\n",
    "\n",
    "    # only make a predictions if at least one face was detected\n",
    "    if len(faces) > 0:\n",
    "        # for faster inference we'll make batch predictions on *all*\n",
    "        # faces at the same time rather than one-by-one predictions\n",
    "        # in the above `for` loop\n",
    "        faces = np.array(faces, dtype=\"float32\")\n",
    "        preds = maskNet.predict(faces, batch_size=32)\n",
    "\n",
    "    # return a 2-tuple of the face locations and their corresponding\n",
    "    # locations\n",
    "    return (locs, preds)\n"
   ]
  },
  {
   "cell_type": "markdown",
   "id": "b336ba10-4d0b-4cb1-a713-295ffa490d2b",
   "metadata": {},
   "source": [
    "Loading Facenet Model Using pre-trained weights"
   ]
  },
  {
   "cell_type": "code",
   "execution_count": 21,
   "id": "satellite-strand",
   "metadata": {},
   "outputs": [
    {
     "name": "stdout",
     "output_type": "stream",
     "text": [
      "[INFO] loading face detector model...\n"
     ]
    }
   ],
   "source": [
    "print(\"[INFO] loading face detector model...\")\n",
    "prototxtPath = \"Data\\deploy.prototxt.txt\"\n",
    "weightsPath = \"Data\\Res10_300x300_ssd_iter_140000.caffemodel\"\n",
    "faceNet = cv2.dnn.readNet(prototxtPath, weightsPath)\n"
   ]
  },
  {
   "cell_type": "markdown",
   "id": "dc8598d9-e717-4b46-b0e5-da6416915d24",
   "metadata": {},
   "source": [
    "### Loading MaskNet model trained using train_mask_detector.ipynb"
   ]
  },
  {
   "cell_type": "code",
   "execution_count": 22,
   "id": "minor-allocation",
   "metadata": {},
   "outputs": [
    {
     "name": "stdout",
     "output_type": "stream",
     "text": [
      "[INFO] loading face mask detector model...\n"
     ]
    }
   ],
   "source": [
    "print(\"[INFO] loading face mask detector model...\")\n",
    "maskNet = load_model('Data\\mask_det.hdf5')"
   ]
  },
  {
   "cell_type": "code",
   "execution_count": 23,
   "id": "6b8506ee-b8e9-4bad-921d-7c163e21657f",
   "metadata": {},
   "outputs": [],
   "source": [
    "def labelling(NNear,mask):\n",
    "    red=(0,0,255)\n",
    "    green =(0,255,0)\n",
    "    yellow = (0,255,255)\n",
    "    color = []\n",
    "    final_lab=\"\"\n",
    "    if(mask==\"Mask\" and NNear ==\"Not Near\"):\n",
    "        final_lab=\"Low Risk\"\n",
    "        color=green\n",
    "    elif ((mask==\"No Mask\" and NNear ==\"Not Near\") or (mask==\"Mask\" and NNear ==\"Near\")):\n",
    "        final_lab = \"Risk\" \n",
    "        color=yellow\n",
    "    elif (mask==\"No Mask\" and NNear ==\"Near\"):\n",
    "        final_lab=\"High Risk\"\n",
    "        color =red\n",
    "        \n",
    "    return (final_lab,color)"
   ]
  },
  {
   "cell_type": "markdown",
   "id": "1c55f6c9-c886-4331-9476-4b8dfa8d7a20",
   "metadata": {},
   "source": [
    "Distance b/w people"
   ]
  },
  {
   "cell_type": "code",
   "execution_count": 24,
   "id": "096c5761-5df6-43ad-a0ae-e57d34b151d8",
   "metadata": {},
   "outputs": [],
   "source": [
    "def find_centroids(locs):\n",
    "    cent=[]\n",
    "    for i,box in enumerate(locs):\n",
    "        # unpack the bounding box and predictions\n",
    "        startX, startY, endX, endY=box\n",
    "        centx,centy=(startX+((endX-startX)/2)),(startY-((startY-endY)/2))\n",
    "        cent.append((centx,centy))\n",
    "        \n",
    "    return cent"
   ]
  },
  {
   "cell_type": "code",
   "execution_count": 25,
   "id": "726fec0e-0caf-46fb-a433-82fed17f725f",
   "metadata": {},
   "outputs": [],
   "source": [
    "def violating_points(cent,thres):\n",
    "    Dist = dist.cdist(cent, cent, metric=\"euclidean\")\n",
    "    voilate=set()\n",
    "    #     print(Dist)\n",
    "    for i in range(0,Dist.shape[0]):\n",
    "        for j in range(i+1,Dist.shape[1]):\n",
    "    #       thres = cv2.getTrackbarPos(\"Threshold1\",\"Parameters\")\n",
    "            if (Dist[i][j]) < int(thres):\n",
    "                voilate.add(i)\n",
    "                voilate.add(j)\n",
    "    #     print(voilate)\n",
    "    return voilate"
   ]
  },
  {
   "cell_type": "code",
   "execution_count": 26,
   "id": "d9edd0ce-f78b-498e-a446-7ca32118f796",
   "metadata": {},
   "outputs": [
    {
     "data": {
      "text/plain": [
       "('High Risk', (0, 0, 255))"
      ]
     },
     "execution_count": 26,
     "metadata": {},
     "output_type": "execute_result"
    }
   ],
   "source": [
    "labelling(\"Near\",\"No Mask\")"
   ]
  },
  {
   "cell_type": "markdown",
   "id": "2037c8f8-6a9a-46cb-8ce2-c4bbb663e155",
   "metadata": {},
   "source": [
    "STREAMING VIDEO WITH MASK DETECTION AND DISTANCE MEASUREMENT"
   ]
  },
  {
   "cell_type": "code",
   "execution_count": 18,
   "id": "43fa40dd-9e5c-4385-bb81-d3b2768ce56e",
   "metadata": {
    "tags": []
   },
   "outputs": [
    {
     "name": "stdout",
     "output_type": "stream",
     "text": [
      "[INFO] starting video stream...\n",
      "[INFO] Finished.........\n"
     ]
    }
   ],
   "source": [
    "thres=300\n",
    "\n",
    "print(\"[INFO] starting video stream...\")\n",
    "# vs = cv2.VideoCapture(\"test/bs1.mp4\") \n",
    "vs = cv2.VideoCapture(0)# for direct cam\n",
    "# time.sleep(1.0)\n",
    "# vs = cv2.VideoCapture(\"\")  # For video uncomment it\n",
    "pTime =0\n",
    "cTime=0\n",
    "cent=[]\n",
    "red=(0,0,255)\n",
    "green =(0,255,0)\n",
    "yellow = (0,255,255)\n",
    "# loop over the frames from the video stream\n",
    "while True:\n",
    "    # grab the frame from the threaded video stream and resize it\n",
    "    # to have a maximum width of 400 pixels\n",
    "    cent=[]\n",
    "    # grab the frame from the threaded video stream and resize it\n",
    "    # to have a maximum width of 400 pixels\n",
    "    \n",
    "    (grabbed, frame) = vs.read() #For video uncomment it  or direct cam\n",
    "    frame = cv2.flip(frame, 1)\n",
    "    \n",
    "#     frame= cv2.imread(\"test/p9.jpg\") # For image uncomment it\n",
    "    frame = cv2.resize(frame, (1000,800))\n",
    "\n",
    "\n",
    "    # detect faces in the frame and determine if they are wearing a\n",
    "    # face mask or not\n",
    "    (locs, preds) = detect_and_predict_mask(frame, faceNet, maskNet)\n",
    "    \n",
    "    distance_lb=[]\n",
    "    #Finding distance if there are more than 1 people\n",
    "    if(len(locs)>1):\n",
    "        \n",
    "        #Finding the Centriods b/w people\n",
    "        cent =find_centroids(locs)\n",
    "        # loop over the detected face locations and their corresponding\n",
    "        # locations\n",
    "\n",
    "        #Finding the voilating locations \n",
    "        voilate = violating_points(cent,thres)\n",
    "\n",
    "        red=[0,0,255]\n",
    "        green =[0,255,0]    \n",
    "        distance=\"Not Near\"\n",
    "        #For distance\n",
    "        for (i,(box,cen,pred)) in enumerate(zip(locs,cent,preds)):\n",
    "            # unpack the bounding box and predictions\n",
    "            color=green\n",
    "            startX, startY, endX, endY=box\n",
    "            (cx,cy) = cen\n",
    "            (mask, withoutMask) = pred\n",
    "            \n",
    "    #         print(i)\n",
    "    #         print(i in voilate)\n",
    "            if(i in voilate):\n",
    "                color = red\n",
    "                \n",
    "                distance=\"Near\"\n",
    "            \n",
    "            cv2.circle(frame, (int(cx), int(cy)), 4, color, 3)\n",
    "            distance_lb.append(distance)\n",
    "            g=6\n",
    "#             cv2.rectangle(frame, (startX+g, startY-g), (endX-g, endY+g), color, 2)\n",
    "            cv2.putText(frame, distance, (startX, endY - 10),cv2.FONT_HERSHEY_SIMPLEX, 0.45, color, 2) \n",
    "#             cv2.putText(frame, distance, (endX-30, endY + 20),cv2.FONT_HERSHEY_SIMPLEX, 0.45, color, 2)\n",
    "\n",
    "\n",
    "        #For Mask\n",
    "        # loop over the detected face locations and their corresponding\n",
    "        # locations\n",
    "        mask_label =[]\n",
    "        for i,(box, pred) in enumerate(zip(locs, preds)):\n",
    "            # unpack the bounding box and predictions\n",
    "            (startX, startY, endX, endY) = box\n",
    "            (mask, withoutMask) = pred\n",
    "\n",
    "            # determine the class label and color we'll use to draw\n",
    "            # the bounding box and text\n",
    "            label = \"Mask\" if mask > withoutMask else \"No Mask\"\n",
    "            color = (0, 255, 0) if label == \"Mask\" else (0, 0, 255)\n",
    "#             print(distance_lb[i],label)   \n",
    "            final_label,final_color=labelling(distance_lb[i],label)\n",
    "            cv2.putText(frame, final_label, (endX-30, endY + 10),cv2.FONT_HERSHEY_SIMPLEX, 0.45,final_color, 2)\n",
    "#                      cv2.rectangle(frame, (startX, startY), (endX, endY), final_color, 2)\n",
    "                     # display the label and bounding box rectangle on the output\n",
    "                     # frame\n",
    "            \n",
    "            cv2.putText(frame, label, (startX, startY - 10),cv2.FONT_HERSHEY_SIMPLEX, 0.45, color, 2)\n",
    "            cv2.rectangle(frame, (startX, startY), (endX, endY), final_color, 2)\n",
    "            \n",
    "    elif(len(locs)==1):\n",
    "        for i,(box, pred) in enumerate(zip(locs, preds)):\n",
    "        # unpack the bounding box and predictions\n",
    "            (startX, startY, endX, endY) = box\n",
    "            (mask, withoutMask) = pred\n",
    "            final_color=green\n",
    "            \n",
    "            label = \"Mask\" if mask > withoutMask else \"No Mask\"\n",
    "            color = (0, 255, 0) if label == \"Mask\" else (0, 0, 255)\n",
    "            \n",
    "#                      cv2.rectangle(frame, (startX, startY), (endX, endY), final_color, 2)\n",
    "                     # display the label and bounding box rectangle on the output\n",
    "                     # frame\n",
    "            \n",
    "            cv2.putText(frame, label, (startX, startY - 10),cv2.FONT_HERSHEY_SIMPLEX, 0.45, color, 2)\n",
    "            \n",
    "            final_label=\"No Risk\"\n",
    "            cv2.putText(frame, final_label, (endX-30, endY + 10),cv2.FONT_HERSHEY_SIMPLEX, 0.45,final_color, 2)\n",
    "            cv2.rectangle(frame, (startX, startY), (endX, endY), final_color, 2)\n",
    "\n",
    "\n",
    "            \n",
    "\n",
    "    \n",
    "    # Find FPS\n",
    "    cTime=time.time()\n",
    "#     print(\"Time taken for processing a Frame:\",cTime-pTime)\n",
    "    fps=1/(cTime-pTime)\n",
    "    pTime=cTime\n",
    "    cv2.putText(frame,str(int(fps)),(10,70),cv2.FONT_ITALIC,1,(255,255,0),3)\n",
    "    # show the output frame\n",
    "#     cv2.startWindowThread()\n",
    "    cv2.namedWindow(\"Frame\")\n",
    "    cv2.imshow(\"Frame\", frame)\n",
    "    key = cv2.waitKey(1) & 0xFF\n",
    "\n",
    "    # if the `q` key was pressed, break from the loop\n",
    "    if key == ord(\"q\"):\n",
    "        break\n",
    "        \n",
    "cv2.destroyAllWindows()\n",
    "print(\"[INFO] Finished.........\")"
   ]
  },
  {
   "cell_type": "code",
   "execution_count": 18,
   "id": "checked-climate",
   "metadata": {},
   "outputs": [],
   "source": [
    "cv2.destroyAllWindows()"
   ]
  },
  {
   "cell_type": "code",
   "execution_count": null,
   "id": "norman-banana",
   "metadata": {},
   "outputs": [],
   "source": []
  }
 ],
 "metadata": {
  "kernelspec": {
   "display_name": "Python 3",
   "language": "python",
   "name": "python3"
  },
  "language_info": {
   "codemirror_mode": {
    "name": "ipython",
    "version": 3
   },
   "file_extension": ".py",
   "mimetype": "text/x-python",
   "name": "python",
   "nbconvert_exporter": "python",
   "pygments_lexer": "ipython3",
   "version": "3.8.8"
  }
 },
 "nbformat": 4,
 "nbformat_minor": 5
}
